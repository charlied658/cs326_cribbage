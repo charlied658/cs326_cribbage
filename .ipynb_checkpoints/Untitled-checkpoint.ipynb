{
 "cells": [
  {
   "cell_type": "code",
   "execution_count": 1,
   "id": "554e71b0",
   "metadata": {},
   "outputs": [],
   "source": [
    "import tensorflow as tf\n",
    "from tensorflow import keras\n",
    "from tensorflow.keras import layers\n",
    "import numpy as np\n",
    "import matplotlib.pyplot as plt\n"
   ]
  },
  {
   "cell_type": "code",
   "execution_count": 2,
   "id": "f9c7a78f",
   "metadata": {},
   "outputs": [
    {
     "name": "stdout",
     "output_type": "stream",
     "text": [
      "Downloading data from https://www.cs.toronto.edu/~kriz/cifar-10-python.tar.gz\n",
      "170500096/170498071 [==============================] - 5s 0us/step\n",
      "170508288/170498071 [==============================] - 5s 0us/step\n"
     ]
    }
   ],
   "source": [
    "(x_train,y_train),(x_test,y_test)=tf.keras.datasets.cifar10.load_data()\n"
   ]
  },
  {
   "cell_type": "code",
   "execution_count": 3,
   "id": "a21526f2",
   "metadata": {},
   "outputs": [
    {
     "name": "stdout",
     "output_type": "stream",
     "text": [
      "train image shape: (50000, 32, 32, 3)\n",
      "train label shape: (50000, 1)\n",
      "test image shape: (10000, 32, 32, 3)\n",
      "test label shape: (10000, 1)\n"
     ]
    }
   ],
   "source": [
    "# there are 50000 train images and 10000 test images\n",
    "print(\"train image shape:\",x_train.shape)  # train image shape: (50000, 32, 32, 3)\n",
    "print(\"train label shape:\",y_train.shape)  # train label shape: (50000, 1)\n",
    "print(\"test image shape:\",x_test.shape)  # test image shape: (10000, 32, 32, 3)\n",
    "print(\"test label shape:\",y_test.shape)  # test label shape: (10000, 1)"
   ]
  },
  {
   "cell_type": "code",
   "execution_count": 4,
   "id": "c0bba4b5",
   "metadata": {},
   "outputs": [],
   "source": [
    "MAX_CHANNEL_VALUE = 255\n",
    "x_train=x_train.astype('float32')\n",
    "x_test=x_test.astype('float32')"
   ]
  },
  {
   "cell_type": "code",
   "execution_count": 5,
   "id": "ef8846d1",
   "metadata": {},
   "outputs": [],
   "source": [
    "# divide by max value 255\n",
    "x_train=x_train/MAX_CHANNEL_VALUE\n",
    "x_test=x_test/MAX_CHANNEL_VALUE\n",
    "class_names =['airplane','automobile','bird','cat','deer','dog','frog','horse','ship','truck']"
   ]
  },
  {
   "cell_type": "code",
   "execution_count": 6,
   "id": "091c5378",
   "metadata": {},
   "outputs": [
    {
     "data": {
      "image/png": "[encoded data removed]",
      "text/plain": [
       "<Figure size 432x288 with 1 Axes>"
      ]
     },
     "metadata": {
      "needs_background": "light"
     },
     "output_type": "display_data"
    }
   ],
   "source": [
    "\n",
    "img = x_train[2]\n",
    "plt.imshow(img)\n",
    "plt.show()\n"
   ]
  },
  {
   "cell_type": "code",
   "execution_count": 7,
   "id": "c74bf7a8",
   "metadata": {},
   "outputs": [
    {
     "name": "stdout",
     "output_type": "stream",
     "text": [
      "[9]\n"
     ]
    }
   ],
   "source": [
    "print(y_train[2])"
   ]
  },
  {
   "cell_type": "code",
   "execution_count": 8,
   "id": "c8a0bda0",
   "metadata": {},
   "outputs": [
    {
     "data": {
      "text/plain": [
       "'truck'"
      ]
     },
     "execution_count": 8,
     "metadata": {},
     "output_type": "execute_result"
    }
   ],
   "source": [
    "class_names[np.ndarray.item(y_train[2])] \n"
   ]
  },
  {
   "cell_type": "code",
   "execution_count": 9,
   "id": "38b4f61a",
   "metadata": {},
   "outputs": [],
   "source": [
    "model=keras.Sequential()\n"
   ]
  },
  {
   "cell_type": "code",
   "execution_count": 10,
   "id": "41b21fe5",
   "metadata": {},
   "outputs": [],
   "source": [
    "model.add(layers.Conv2D(32, kernel_size=(3,3), padding='same', input_shape=(x_train.shape[1:]), activation='relu'))\n",
    "model.add(layers.MaxPooling2D(pool_size=(2,2)))"
   ]
  },
  {
   "cell_type": "code",
   "execution_count": 11,
   "id": "3f4b005c",
   "metadata": {},
   "outputs": [],
   "source": [
    "model.add(layers.Flatten())\n",
    "model.add(layers.Dense(32, activation='relu'))\n",
    "model.add(layers.Dropout(0.5))\n",
    "model.add(layers.Dense(10,activation='softmax'))"
   ]
  },
  {
   "cell_type": "code",
   "execution_count": 12,
   "id": "d734a22c",
   "metadata": {},
   "outputs": [
    {
     "name": "stdout",
     "output_type": "stream",
     "text": [
      "Model: \"sequential\"\n",
      "_________________________________________________________________\n",
      "Layer (type)                 Output Shape              Param #   \n",
      "=================================================================\n",
      "conv2d (Conv2D)              (None, 32, 32, 32)        896       \n",
      "_________________________________________________________________\n",
      "max_pooling2d (MaxPooling2D) (None, 16, 16, 32)        0         \n",
      "_________________________________________________________________\n",
      "flatten (Flatten)            (None, 8192)              0         \n",
      "_________________________________________________________________\n",
      "dense (Dense)                (None, 32)                262176    \n",
      "_________________________________________________________________\n",
      "dropout (Dropout)            (None, 32)                0         \n",
      "_________________________________________________________________\n",
      "dense_1 (Dense)              (None, 10)                330       \n",
      "=================================================================\n",
      "Total params: 263,402\n",
      "Trainable params: 263,402\n",
      "Non-trainable params: 0\n",
      "_________________________________________________________________\n"
     ]
    }
   ],
   "source": [
    "model.summary()"
   ]
  },
  {
   "cell_type": "code",
   "execution_count": 13,
   "id": "dd414b33",
   "metadata": {},
   "outputs": [
    {
     "data": {
      "text/plain": [
       "(32, 32, 3)"
      ]
     },
     "execution_count": 13,
     "metadata": {},
     "output_type": "execute_result"
    }
   ],
   "source": [
    "x_train.shape[1:]"
   ]
  },
  {
   "cell_type": "code",
   "execution_count": 14,
   "id": "5e146a4f",
   "metadata": {},
   "outputs": [],
   "source": [
    "model.compile(loss='sparse_categorical_crossentropy',  optimizer=keras.optimizers.SGD(learning_rate=0.001), metrics=['accuracy'])\n"
   ]
  },
  {
   "cell_type": "code",
   "execution_count": 15,
   "id": "55216be2",
   "metadata": {},
   "outputs": [
    {
     "name": "stdout",
     "output_type": "stream",
     "text": [
      "Epoch 1/40\n",
      "1250/1250 [==============================] - 8s 6ms/step - loss: 2.2695 - accuracy: 0.1468 - val_loss: 2.2293 - val_accuracy: 0.2195\n",
      "Epoch 2/40\n",
      "1250/1250 [==============================] - 7s 6ms/step - loss: 2.2129 - accuracy: 0.1835 - val_loss: 2.1548 - val_accuracy: 0.2605\n",
      "Epoch 3/40\n",
      "1250/1250 [==============================] - 7s 6ms/step - loss: 2.1652 - accuracy: 0.2115 - val_loss: 2.1034 - val_accuracy: 0.2738\n",
      "Epoch 4/40\n",
      "1250/1250 [==============================] - 7s 6ms/step - loss: 2.1324 - accuracy: 0.2225 - val_loss: 2.0554 - val_accuracy: 0.2998\n",
      "Epoch 5/40\n",
      "1250/1250 [==============================] - 7s 6ms/step - loss: 2.0969 - accuracy: 0.2358 - val_loss: 2.0030 - val_accuracy: 0.3102\n",
      "Epoch 6/40\n",
      "1250/1250 [==============================] - 7s 6ms/step - loss: 2.0651 - accuracy: 0.2440 - val_loss: 1.9761 - val_accuracy: 0.3434\n",
      "Epoch 7/40\n",
      "1250/1250 [==============================] - 7s 6ms/step - loss: 2.0396 - accuracy: 0.2550 - val_loss: 1.9502 - val_accuracy: 0.3512\n",
      "Epoch 8/40\n",
      "1250/1250 [==============================] - 7s 6ms/step - loss: 2.0210 - accuracy: 0.2610 - val_loss: 1.9190 - val_accuracy: 0.3457\n",
      "Epoch 9/40\n",
      "1250/1250 [==============================] - 8s 6ms/step - loss: 1.9997 - accuracy: 0.2679 - val_loss: 1.9021 - val_accuracy: 0.3632\n",
      "Epoch 10/40\n",
      "1250/1250 [==============================] - 7s 6ms/step - loss: 1.9774 - accuracy: 0.2776 - val_loss: 1.8799 - val_accuracy: 0.3685\n",
      "Epoch 11/40\n",
      "1250/1250 [==============================] - 7s 6ms/step - loss: 1.9628 - accuracy: 0.2825 - val_loss: 1.8691 - val_accuracy: 0.3756\n",
      "Epoch 12/40\n",
      "1250/1250 [==============================] - 7s 6ms/step - loss: 1.9434 - accuracy: 0.2874 - val_loss: 1.8459 - val_accuracy: 0.3838\n",
      "Epoch 13/40\n",
      "1250/1250 [==============================] - 7s 6ms/step - loss: 1.9290 - accuracy: 0.2962 - val_loss: 1.8161 - val_accuracy: 0.3876\n",
      "Epoch 14/40\n",
      "1250/1250 [==============================] - 7s 6ms/step - loss: 1.9132 - accuracy: 0.2993 - val_loss: 1.8132 - val_accuracy: 0.3944\n",
      "Epoch 15/40\n",
      "1250/1250 [==============================] - 7s 6ms/step - loss: 1.8989 - accuracy: 0.3083 - val_loss: 1.7864 - val_accuracy: 0.3941\n",
      "Epoch 16/40\n",
      "1250/1250 [==============================] - 7s 6ms/step - loss: 1.8803 - accuracy: 0.3165 - val_loss: 1.7703 - val_accuracy: 0.4025\n",
      "Epoch 17/40\n",
      "1250/1250 [==============================] - 8s 6ms/step - loss: 1.8613 - accuracy: 0.3205 - val_loss: 1.7476 - val_accuracy: 0.4029\n",
      "Epoch 18/40\n",
      "1250/1250 [==============================] - 7s 6ms/step - loss: 1.8529 - accuracy: 0.3259 - val_loss: 1.7247 - val_accuracy: 0.4125\n",
      "Epoch 19/40\n",
      "1250/1250 [==============================] - 7s 6ms/step - loss: 1.8350 - accuracy: 0.3326 - val_loss: 1.7190 - val_accuracy: 0.4203\n",
      "Epoch 20/40\n",
      "1250/1250 [==============================] - 7s 6ms/step - loss: 1.8264 - accuracy: 0.3349 - val_loss: 1.7067 - val_accuracy: 0.4208\n",
      "Epoch 21/40\n",
      "1250/1250 [==============================] - 7s 6ms/step - loss: 1.8097 - accuracy: 0.3379 - val_loss: 1.6841 - val_accuracy: 0.4266\n",
      "Epoch 22/40\n",
      "1250/1250 [==============================] - 7s 6ms/step - loss: 1.7918 - accuracy: 0.3449 - val_loss: 1.6671 - val_accuracy: 0.4291\n",
      "Epoch 23/40\n",
      "1250/1250 [==============================] - 7s 6ms/step - loss: 1.7873 - accuracy: 0.3476 - val_loss: 1.6594 - val_accuracy: 0.4333\n",
      "Epoch 24/40\n",
      "1250/1250 [==============================] - 7s 6ms/step - loss: 1.7659 - accuracy: 0.3548 - val_loss: 1.6402 - val_accuracy: 0.4404\n",
      "Epoch 25/40\n",
      "1250/1250 [==============================] - 8s 6ms/step - loss: 1.7642 - accuracy: 0.3546 - val_loss: 1.6277 - val_accuracy: 0.4462\n",
      "Epoch 26/40\n",
      "1250/1250 [==============================] - 8s 6ms/step - loss: 1.7510 - accuracy: 0.3600 - val_loss: 1.6097 - val_accuracy: 0.4479\n",
      "Epoch 27/40\n",
      "1250/1250 [==============================] - 8s 7ms/step - loss: 1.7346 - accuracy: 0.3668 - val_loss: 1.6000 - val_accuracy: 0.4515\n",
      "Epoch 28/40\n",
      "1250/1250 [==============================] - 7s 6ms/step - loss: 1.7267 - accuracy: 0.3689 - val_loss: 1.5961 - val_accuracy: 0.4512\n",
      "Epoch 29/40\n",
      "1250/1250 [==============================] - 7s 6ms/step - loss: 1.7157 - accuracy: 0.3719 - val_loss: 1.5733 - val_accuracy: 0.4565\n",
      "Epoch 30/40\n",
      "1250/1250 [==============================] - 7s 6ms/step - loss: 1.7059 - accuracy: 0.3768 - val_loss: 1.5633 - val_accuracy: 0.4619\n",
      "Epoch 31/40\n",
      "1250/1250 [==============================] - 7s 6ms/step - loss: 1.7003 - accuracy: 0.3814 - val_loss: 1.5676 - val_accuracy: 0.4602\n",
      "Epoch 32/40\n",
      "1250/1250 [==============================] - 7s 6ms/step - loss: 1.6896 - accuracy: 0.3840 - val_loss: 1.5485 - val_accuracy: 0.4677\n",
      "Epoch 33/40\n",
      "1250/1250 [==============================] - 7s 6ms/step - loss: 1.6842 - accuracy: 0.3850 - val_loss: 1.5421 - val_accuracy: 0.4697\n",
      "Epoch 34/40\n",
      "1250/1250 [==============================] - 9s 7ms/step - loss: 1.6710 - accuracy: 0.3880 - val_loss: 1.5495 - val_accuracy: 0.4652\n",
      "Epoch 35/40\n",
      "1250/1250 [==============================] - 8s 6ms/step - loss: 1.6673 - accuracy: 0.3913 - val_loss: 1.5232 - val_accuracy: 0.4765\n",
      "Epoch 36/40\n",
      "1250/1250 [==============================] - 8s 6ms/step - loss: 1.6540 - accuracy: 0.3952 - val_loss: 1.5122 - val_accuracy: 0.4761\n",
      "Epoch 37/40\n",
      "1250/1250 [==============================] - 7s 6ms/step - loss: 1.6480 - accuracy: 0.3986 - val_loss: 1.5105 - val_accuracy: 0.4826\n",
      "Epoch 38/40\n",
      "1250/1250 [==============================] - 7s 6ms/step - loss: 1.6424 - accuracy: 0.3975 - val_loss: 1.4992 - val_accuracy: 0.4816\n",
      "Epoch 39/40\n",
      "1250/1250 [==============================] - 7s 6ms/step - loss: 1.6412 - accuracy: 0.4004 - val_loss: 1.5063 - val_accuracy: 0.4849\n",
      "Epoch 40/40\n",
      "1250/1250 [==============================] - 8s 6ms/step - loss: 1.6356 - accuracy: 0.4018 - val_loss: 1.4883 - val_accuracy: 0.4886\n"
     ]
    }
   ],
   "source": [
    "history = model.fit(x_train[:40000], y_train[:40000], epochs=40, validation_data=(x_train[40000:], y_train[40000:]), batch_size=20)\n"
   ]
  },
  {
   "cell_type": "code",
   "execution_count": null,
   "id": "9ad0514c",
   "metadata": {},
   "outputs": [],
   "source": []
  }
 ],
 "metadata": {
  "kernelspec": {
   "display_name": "Python 3",
   "language": "python",
   "name": "python3"
  },
  "language_info": {
   "codemirror_mode": {
    "name": "ipython",
    "version": 3
   },
   "file_extension": ".py",
   "mimetype": "text/x-python",
   "name": "python",
   "nbconvert_exporter": "python",
   "pygments_lexer": "ipython3",
   "version": "3.6.8"
  }
 },
 "nbformat": 4,
 "nbformat_minor": 5
}
