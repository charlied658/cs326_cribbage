{
 "cells": [
  {
   "cell_type": "code",
   "execution_count": 1,
   "id": "a06c9660",
   "metadata": {},
   "outputs": [],
   "source": [
    "import tensorflow as tf\n",
    "from tensorflow import keras\n",
    "from tensorflow.keras import layers\n",
    "import numpy as np\n",
    "import matplotlib.pyplot as plt\n"
   ]
  },
  {
   "cell_type": "code",
   "execution_count": 2,
   "id": "7a7ae416",
   "metadata": {},
   "outputs": [
    {
     "name": "stdout",
     "output_type": "stream",
     "text": [
      "Downloading data from https://www.cs.toronto.edu/~kriz/cifar-10-python.tar.gz\n",
      "170500096/170498071 [==============================] - 5s 0us/step\n",
      "170508288/170498071 [==============================] - 5s 0us/step\n"
     ]
    }
   ],
   "source": [
    "(x_train,y_train),(x_test,y_test)=tf.keras.datasets.cifar10.load_data()\n"
   ]
  },
  {
   "cell_type": "code",
   "execution_count": 3,
   "id": "971bafcc",
   "metadata": {},
   "outputs": [
    {
     "name": "stdout",
     "output_type": "stream",
     "text": [
      "train image shape: (50000, 32, 32, 3)\n",
      "train label shape: (50000, 1)\n",
      "test image shape: (10000, 32, 32, 3)\n",
      "test label shape: (10000, 1)\n"
     ]
    }
   ],
   "source": [
    "# there are 50000 train images and 10000 test images\n",
    "print(\"train image shape:\",x_train.shape)  # train image shape: (50000, 32, 32, 3)\n",
    "print(\"train label shape:\",y_train.shape)  # train label shape: (50000, 1)\n",
    "print(\"test image shape:\",x_test.shape)  # test image shape: (10000, 32, 32, 3)\n",
    "print(\"test label shape:\",y_test.shape)  # test label shape: (10000, 1)"
   ]
  },
  {
   "cell_type": "code",
   "execution_count": null,
   "id": "152f127e",
   "metadata": {},
   "outputs": [],
   "source": []
  }
 ],
 "metadata": {
  "kernelspec": {
   "display_name": "Python 3",
   "language": "python",
   "name": "python3"
  },
  "language_info": {
   "codemirror_mode": {
    "name": "ipython",
    "version": 3
   },
   "file_extension": ".py",
   "mimetype": "text/x-python",
   "name": "python",
   "nbconvert_exporter": "python",
   "pygments_lexer": "ipython3",
   "version": "3.6.8"
  }
 },
 "nbformat": 4,
 "nbformat_minor": 5
}
