{
 "cells": [
  {
   "cell_type": "code",
   "execution_count": 1,
   "id": "871381ae",
   "metadata": {},
   "outputs": [],
   "source": [
    "import tensorflow as tf\n",
    "from tensorflow import keras\n",
    "from tensorflow.keras import layers\n",
    "import numpy as np\n",
    "import matplotlib.pyplot as plt\n"
   ]
  },
  {
   "cell_type": "code",
   "execution_count": 2,
   "id": "ff87cd13",
   "metadata": {},
   "outputs": [
    {
     "name": "stdout",
     "output_type": "stream",
     "text": [
      "Downloading data from https://www.cs.toronto.edu/~kriz/cifar-10-python.tar.gz\n",
      "170500096/170498071 [==============================] - 5s 0us/step\n",
      "170508288/170498071 [==============================] - 5s 0us/step\n"
     ]
    }
   ],
   "source": [
    "(x_train,y_train),(x_test,y_test)=tf.keras.datasets.cifar10.load_data()\n"
   ]
  },
  {
   "cell_type": "code",
   "execution_count": 3,
   "id": "a52c7d25",
   "metadata": {},
   "outputs": [
    {
     "name": "stdout",
     "output_type": "stream",
     "text": [
      "train image shape: (50000, 32, 32, 3)\n",
      "train label shape: (50000, 1)\n",
      "test image shape: (10000, 32, 32, 3)\n",
      "test label shape: (10000, 1)\n"
     ]
    }
   ],
   "source": [
    "# there are 50000 train images and 10000 test images\n",
    "print(\"train image shape:\",x_train.shape)  # train image shape: (50000, 32, 32, 3)\n",
    "print(\"train label shape:\",y_train.shape)  # train label shape: (50000, 1)\n",
    "print(\"test image shape:\",x_test.shape)  # test image shape: (10000, 32, 32, 3)\n",
    "print(\"test label shape:\",y_test.shape)  # test label shape: (10000, 1)"
   ]
  },
  {
   "cell_type": "code",
   "execution_count": 4,
   "id": "50ad456c",
   "metadata": {},
   "outputs": [],
   "source": [
    "MAX_CHANNEL_VALUE = 255\n",
    "x_train=x_train.astype('float32')\n",
    "x_test=x_test.astype('float32')"
   ]
  },
  {
   "cell_type": "code",
   "execution_count": 5,
   "id": "668c36bf",
   "metadata": {},
   "outputs": [],
   "source": [
    "# divide by max value 255\n",
    "x_train=x_train/MAX_CHANNEL_VALUE\n",
    "x_test=x_test/MAX_CHANNEL_VALUE\n",
    "class_names =['airplane','automobile','bird','cat','deer','dog','frog','horse','ship','truck']"
   ]
  },
  {
   "cell_type": "code",
   "execution_count": 6,
   "id": "f88eb3bd",
   "metadata": {},
   "outputs": [
    {
     "data": {
      "image/png": "[encoded data removed]",
      "text/plain": [
       "<Figure size 432x288 with 1 Axes>"
      ]
     },
     "metadata": {
      "needs_background": "light"
     },
     "output_type": "display_data"
    }
   ],
   "source": [
    "\n",
    "img = x_train[2]\n",
    "plt.imshow(img)\n",
    "plt.show()\n"
   ]
  },
  {
   "cell_type": "code",
   "execution_count": 7,
   "id": "47121c15",
   "metadata": {},
   "outputs": [
    {
     "name": "stdout",
     "output_type": "stream",
     "text": [
      "[9]\n"
     ]
    }
   ],
   "source": [
    "print(y_train[2])"
   ]
  },
  {
   "cell_type": "code",
   "execution_count": 8,
   "id": "9ab01045",
   "metadata": {},
   "outputs": [
    {
     "data": {
      "text/plain": [
       "'truck'"
      ]
     },
     "execution_count": 8,
     "metadata": {},
     "output_type": "execute_result"
    }
   ],
   "source": [
    "class_names[np.ndarray.item(y_train[2])] \n"
   ]
  },
  {
   "cell_type": "code",
   "execution_count": 9,
   "id": "76e3b3c7",
   "metadata": {},
   "outputs": [],
   "source": [
    "model=keras.Sequential()\n"
   ]
  },
  {
   "cell_type": "code",
   "execution_count": 10,
   "id": "b227bd3a",
   "metadata": {},
   "outputs": [],
   "source": [
    "model.add(layers.Conv2D(32, kernel_size=(3,3), padding='same', input_shape=(x_train.shape[1:]), activation='relu'))\n",
    "model.add(layers.MaxPooling2D(pool_size=(2,2)))"
   ]
  },
  {
   "cell_type": "code",
   "execution_count": 11,
   "id": "83e2ba52",
   "metadata": {},
   "outputs": [],
   "source": [
    "model.add(layers.Flatten())\n",
    "model.add(layers.Dense(32, activation='relu'))\n",
    "model.add(layers.Dropout(0.5))\n",
    "model.add(layers.Dense(10,activation='softmax'))"
   ]
  },
  {
   "cell_type": "code",
   "execution_count": 12,
   "id": "6ed59f60",
   "metadata": {},
   "outputs": [
    {
     "name": "stdout",
     "output_type": "stream",
     "text": [
      "Model: \"sequential\"\n",
      "_________________________________________________________________\n",
      "Layer (type)                 Output Shape              Param #   \n",
      "=================================================================\n",
      "conv2d (Conv2D)              (None, 32, 32, 32)        896       \n",
      "_________________________________________________________________\n",
      "max_pooling2d (MaxPooling2D) (None, 16, 16, 32)        0         \n",
      "_________________________________________________________________\n",
      "flatten (Flatten)            (None, 8192)              0         \n",
      "_________________________________________________________________\n",
      "dense (Dense)                (None, 32)                262176    \n",
      "_________________________________________________________________\n",
      "dropout (Dropout)            (None, 32)                0         \n",
      "_________________________________________________________________\n",
      "dense_1 (Dense)              (None, 10)                330       \n",
      "=================================================================\n",
      "Total params: 263,402\n",
      "Trainable params: 263,402\n",
      "Non-trainable params: 0\n",
      "_________________________________________________________________\n"
     ]
    }
   ],
   "source": [
    "model.summary()"
   ]
  },
  {
   "cell_type": "code",
   "execution_count": 13,
   "id": "b3fdc88f",
   "metadata": {},
   "outputs": [
    {
     "data": {
      "text/plain": [
       "(32, 32, 3)"
      ]
     },
     "execution_count": 13,
     "metadata": {},
     "output_type": "execute_result"
    }
   ],
   "source": [
    "x_train.shape[1:]"
   ]
  },
  {
   "cell_type": "code",
   "execution_count": 21,
   "id": "d2fcb820",
   "metadata": {},
   "outputs": [],
   "source": [
    "model.compile(loss='sparse_categorical_crossentropy',  optimizer=keras.optimizers.SGD(learning_rate=0.05), metrics=['accuracy'])\n"
   ]
  },
  {
   "cell_type": "code",
   "execution_count": 22,
   "id": "559eeb73",
   "metadata": {},
   "outputs": [
    {
     "name": "stdout",
     "output_type": "stream",
     "text": [
      "Epoch 1/50\n",
      "2000/2000 [==============================] - 8s 4ms/step - loss: 0.9582 - accuracy: 0.6335 - val_loss: 1.3582 - val_accuracy: 0.5903\n",
      "Epoch 2/50\n",
      "2000/2000 [==============================] - 8s 4ms/step - loss: 0.9276 - accuracy: 0.6430 - val_loss: 1.3952 - val_accuracy: 0.5855\n",
      "Epoch 3/50\n",
      "2000/2000 [==============================] - 9s 4ms/step - loss: 0.9140 - accuracy: 0.6463 - val_loss: 1.3777 - val_accuracy: 0.5923\n",
      "Epoch 4/50\n",
      "2000/2000 [==============================] - 8s 4ms/step - loss: 0.8999 - accuracy: 0.6511 - val_loss: 1.4002 - val_accuracy: 0.5916\n",
      "Epoch 5/50\n",
      "2000/2000 [==============================] - 8s 4ms/step - loss: 0.8930 - accuracy: 0.6527 - val_loss: 1.4187 - val_accuracy: 0.5916\n",
      "Epoch 6/50\n",
      "2000/2000 [==============================] - 8s 4ms/step - loss: 0.8881 - accuracy: 0.6550 - val_loss: 1.4422 - val_accuracy: 0.5916\n",
      "Epoch 7/50\n",
      "2000/2000 [==============================] - 8s 4ms/step - loss: 0.8857 - accuracy: 0.6543 - val_loss: 1.4756 - val_accuracy: 0.5809\n",
      "Epoch 8/50\n",
      "2000/2000 [==============================] - 8s 4ms/step - loss: 0.8795 - accuracy: 0.6569 - val_loss: 1.4578 - val_accuracy: 0.5873\n",
      "Epoch 9/50\n",
      "2000/2000 [==============================] - 8s 4ms/step - loss: 0.8696 - accuracy: 0.6625 - val_loss: 1.4839 - val_accuracy: 0.5860\n",
      "Epoch 10/50\n",
      "2000/2000 [==============================] - 9s 5ms/step - loss: 0.8699 - accuracy: 0.6593 - val_loss: 1.4949 - val_accuracy: 0.5830\n",
      "Epoch 11/50\n",
      "2000/2000 [==============================] - 8s 4ms/step - loss: 0.8589 - accuracy: 0.6646 - val_loss: 1.4964 - val_accuracy: 0.5816\n",
      "Epoch 12/50\n",
      "2000/2000 [==============================] - 8s 4ms/step - loss: 0.8592 - accuracy: 0.6638 - val_loss: 1.5368 - val_accuracy: 0.5874\n",
      "Epoch 13/50\n",
      "2000/2000 [==============================] - 8s 4ms/step - loss: 0.8600 - accuracy: 0.6633 - val_loss: 1.4983 - val_accuracy: 0.5855\n",
      "Epoch 14/50\n",
      "2000/2000 [==============================] - 8s 4ms/step - loss: 0.8466 - accuracy: 0.6681 - val_loss: 1.5491 - val_accuracy: 0.5826\n",
      "Epoch 15/50\n",
      "2000/2000 [==============================] - 8s 4ms/step - loss: 0.8464 - accuracy: 0.6681 - val_loss: 1.5069 - val_accuracy: 0.5885\n",
      "Epoch 16/50\n",
      "2000/2000 [==============================] - 8s 4ms/step - loss: 0.8425 - accuracy: 0.6690 - val_loss: 1.5200 - val_accuracy: 0.5814\n",
      "Epoch 17/50\n",
      "2000/2000 [==============================] - 8s 4ms/step - loss: 0.8420 - accuracy: 0.6716 - val_loss: 1.6045 - val_accuracy: 0.5826\n",
      "Epoch 18/50\n",
      "2000/2000 [==============================] - 9s 4ms/step - loss: 0.8459 - accuracy: 0.6718 - val_loss: 1.5648 - val_accuracy: 0.5796\n",
      "Epoch 19/50\n",
      "2000/2000 [==============================] - 8s 4ms/step - loss: 0.8394 - accuracy: 0.6701 - val_loss: 1.5567 - val_accuracy: 0.5861\n",
      "Epoch 20/50\n",
      "2000/2000 [==============================] - 8s 4ms/step - loss: 0.8345 - accuracy: 0.6728 - val_loss: 1.5958 - val_accuracy: 0.5849\n",
      "Epoch 21/50\n",
      "2000/2000 [==============================] - 8s 4ms/step - loss: 0.8192 - accuracy: 0.6790 - val_loss: 1.5768 - val_accuracy: 0.5872\n",
      "Epoch 22/50\n",
      "2000/2000 [==============================] - 8s 4ms/step - loss: 0.8195 - accuracy: 0.6779 - val_loss: 1.6794 - val_accuracy: 0.5850\n",
      "Epoch 23/50\n",
      "2000/2000 [==============================] - 8s 4ms/step - loss: 0.8266 - accuracy: 0.6776 - val_loss: 1.6533 - val_accuracy: 0.5808\n",
      "Epoch 24/50\n",
      "2000/2000 [==============================] - 8s 4ms/step - loss: 0.8201 - accuracy: 0.6751 - val_loss: 1.5926 - val_accuracy: 0.5747\n",
      "Epoch 25/50\n",
      "2000/2000 [==============================] - 9s 4ms/step - loss: 0.8221 - accuracy: 0.6772 - val_loss: 1.6359 - val_accuracy: 0.5812\n",
      "Epoch 26/50\n",
      "2000/2000 [==============================] - 8s 4ms/step - loss: 0.8208 - accuracy: 0.6798 - val_loss: 1.6621 - val_accuracy: 0.5748\n",
      "Epoch 27/50\n",
      "2000/2000 [==============================] - 8s 4ms/step - loss: 0.8201 - accuracy: 0.6794 - val_loss: 1.6773 - val_accuracy: 0.5818\n",
      "Epoch 28/50\n",
      "2000/2000 [==============================] - 8s 4ms/step - loss: 0.8244 - accuracy: 0.6735 - val_loss: 1.6996 - val_accuracy: 0.5790\n",
      "Epoch 29/50\n",
      "2000/2000 [==============================] - 8s 4ms/step - loss: 0.8050 - accuracy: 0.6836 - val_loss: 1.6811 - val_accuracy: 0.5794\n",
      "Epoch 30/50\n",
      "2000/2000 [==============================] - 8s 4ms/step - loss: 0.8119 - accuracy: 0.6825 - val_loss: 1.7095 - val_accuracy: 0.5825\n",
      "Epoch 31/50\n",
      "2000/2000 [==============================] - 8s 4ms/step - loss: 0.8131 - accuracy: 0.6797 - val_loss: 1.7220 - val_accuracy: 0.5801\n",
      "Epoch 32/50\n",
      "2000/2000 [==============================] - 9s 4ms/step - loss: 0.8045 - accuracy: 0.6828 - val_loss: 1.7600 - val_accuracy: 0.5798\n",
      "Epoch 33/50\n",
      "2000/2000 [==============================] - 9s 4ms/step - loss: 0.8046 - accuracy: 0.6838 - val_loss: 1.6715 - val_accuracy: 0.5791\n",
      "Epoch 34/50\n",
      "2000/2000 [==============================] - 8s 4ms/step - loss: 0.8041 - accuracy: 0.6858 - val_loss: 1.6565 - val_accuracy: 0.5796\n",
      "Epoch 35/50\n",
      "2000/2000 [==============================] - 8s 4ms/step - loss: 0.8055 - accuracy: 0.6820 - val_loss: 1.7365 - val_accuracy: 0.5772\n",
      "Epoch 36/50\n",
      "2000/2000 [==============================] - 8s 4ms/step - loss: 0.8013 - accuracy: 0.6864 - val_loss: 1.7177 - val_accuracy: 0.5716\n",
      "Epoch 37/50\n",
      "2000/2000 [==============================] - 8s 4ms/step - loss: 0.7951 - accuracy: 0.6877 - val_loss: 1.6737 - val_accuracy: 0.5755\n",
      "Epoch 38/50\n",
      "2000/2000 [==============================] - 8s 4ms/step - loss: 0.8047 - accuracy: 0.6852 - val_loss: 1.7169 - val_accuracy: 0.5805\n",
      "Epoch 39/50\n",
      "2000/2000 [==============================] - 8s 4ms/step - loss: 0.7942 - accuracy: 0.6866 - val_loss: 1.7541 - val_accuracy: 0.5758\n",
      "Epoch 40/50\n",
      "2000/2000 [==============================] - 10s 5ms/step - loss: 0.8024 - accuracy: 0.6849 - val_loss: 1.7348 - val_accuracy: 0.5807\n",
      "Epoch 41/50\n",
      "2000/2000 [==============================] - 10s 5ms/step - loss: 0.7964 - accuracy: 0.6862 - val_loss: 1.7449 - val_accuracy: 0.5801\n",
      "Epoch 42/50\n",
      "2000/2000 [==============================] - 8s 4ms/step - loss: 0.7872 - accuracy: 0.6872 - val_loss: 1.6738 - val_accuracy: 0.5766\n",
      "Epoch 43/50\n",
      "2000/2000 [==============================] - 8s 4ms/step - loss: 0.7849 - accuracy: 0.6904 - val_loss: 1.7786 - val_accuracy: 0.5712\n",
      "Epoch 44/50\n",
      "2000/2000 [==============================] - 8s 4ms/step - loss: 0.7900 - accuracy: 0.6904 - val_loss: 1.8449 - val_accuracy: 0.5846\n",
      "Epoch 45/50\n",
      "2000/2000 [==============================] - 9s 4ms/step - loss: 0.7849 - accuracy: 0.6936 - val_loss: 1.8073 - val_accuracy: 0.5791\n",
      "Epoch 46/50\n",
      "2000/2000 [==============================] - 9s 4ms/step - loss: 0.7751 - accuracy: 0.6945 - val_loss: 1.8223 - val_accuracy: 0.5821\n",
      "Epoch 47/50\n",
      "2000/2000 [==============================] - 9s 4ms/step - loss: 0.7861 - accuracy: 0.6909 - val_loss: 1.8397 - val_accuracy: 0.5649\n",
      "Epoch 48/50\n",
      "2000/2000 [==============================] - 8s 4ms/step - loss: 0.7780 - accuracy: 0.6960 - val_loss: 1.8248 - val_accuracy: 0.5792\n",
      "Epoch 49/50\n",
      "2000/2000 [==============================] - 8s 4ms/step - loss: 0.7783 - accuracy: 0.6944 - val_loss: 1.8222 - val_accuracy: 0.5814\n",
      "Epoch 50/50\n",
      "2000/2000 [==============================] - 8s 4ms/step - loss: 0.7767 - accuracy: 0.6934 - val_loss: 1.8835 - val_accuracy: 0.5778\n"
     ]
    }
   ],
   "source": [
    "history = model.fit(x_train[:40000], y_train[:40000], epochs=50, validation_data=(x_train[40000:], y_train[40000:]), batch_size=20)\n"
   ]
  },
  {
   "cell_type": "code",
   "execution_count": null,
   "id": "0d02da66",
   "metadata": {},
   "outputs": [],
   "source": []
  }
 ],
 "metadata": {
  "kernelspec": {
   "display_name": "Python 3",
   "language": "python",
   "name": "python3"
  },
  "language_info": {
   "codemirror_mode": {
    "name": "ipython",
    "version": 3
   },
   "file_extension": ".py",
   "mimetype": "text/x-python",
   "name": "python",
   "nbconvert_exporter": "python",
   "pygments_lexer": "ipython3",
   "version": "3.6.8"
  }
 },
 "nbformat": 4,
 "nbformat_minor": 5
}
